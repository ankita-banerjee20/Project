{
 "cells": [
  {
   "cell_type": "code",
   "execution_count": 1,
   "metadata": {},
   "outputs": [],
   "source": [
    "import cv2"
   ]
  },
  {
   "cell_type": "markdown",
   "metadata": {},
   "source": [
    "### Cropping the video"
   ]
  },
  {
   "cell_type": "code",
   "execution_count": 2,
   "metadata": {},
   "outputs": [],
   "source": [
    "def get_clip(input_filename, output_filename,  start_sec, end_sec):\n",
    "    \n",
    "    vidcap = cv2.VideoCapture(input_filename)\n",
    "    \n",
    "    frame_width = int(vidcap.get(cv2.CAP_PROP_FRAME_WIDTH))\n",
    "    frame_height = int(vidcap.get(cv2.CAP_PROP_FRAME_HEIGHT))\n",
    "    fps = vidcap.get(cv2.CAP_PROP_FPS)\n",
    "    start_frame = int(start_sec*fps)\n",
    "    end_frame = int(end_sec*fps)\n",
    "    vidcap.set(cv2.CAP_PROP_POS_FRAMES,start_frame)\n",
    "    \n",
    "    \n",
    "    vidwrite = cv2.VideoWriter(output_filename, cv2.VideoWriter_fourcc(*'MP4V'), fps, (frame_width, frame_height) )\n",
    "    \n",
    "    success, image = vidcap.read()\n",
    "    frame_count = start_frame\n",
    "    while success and (frame_count < end_frame):\n",
    "        vidwrite.write(image)  \n",
    "        success, image = vidcap.read()  \n",
    "        frame_count+=1\n",
    "    vidwrite.release()"
   ]
  },
  {
   "cell_type": "code",
   "execution_count": 5,
   "metadata": {},
   "outputs": [],
   "source": [
    "get_clip('Original_video/32.mp4', 'Crop_video/Step_10/32_10.mp4', 105, 134)"
   ]
  },
  {
   "cell_type": "markdown",
   "metadata": {},
   "source": [
    "### Getting the frames"
   ]
  },
  {
   "cell_type": "code",
   "execution_count": 22,
   "metadata": {},
   "outputs": [
    {
     "name": "stdout",
     "output_type": "stream",
     "text": [
      "Done!\n"
     ]
    }
   ],
   "source": [
    "cap = cv2.VideoCapture('Crop_video/Step_2/27_2.mp4')\n",
    "\n",
    "currentframe = 0\n",
    "\n",
    "while(True):\n",
    "    success, frame = cap.read()\n",
    "\n",
    "    if success:\n",
    "        frame=cv2.resize(frame, (600,400))\n",
    "        name = f'Frame/Step_2/MVR_Blade/27_2_{str(currentframe)}.jpg'\n",
    "        cv2.imwrite(name, frame)\n",
    "\n",
    "        currentframe += 1\n",
    "\n",
    "    else:\n",
    "        print(\"Done!\")\n",
    "        break\n",
    "\n",
    "cap.release()\n",
    "cv2.destroyAllWindows()\n"
   ]
  },
  {
   "cell_type": "markdown",
   "metadata": {},
   "source": [
    "### FPS and Resolution of video"
   ]
  },
  {
   "cell_type": "code",
   "execution_count": 4,
   "metadata": {},
   "outputs": [
    {
     "name": "stdout",
     "output_type": "stream",
     "text": [
      "25.0 frames per second, frame height: 720, frame width:1280\n"
     ]
    }
   ],
   "source": [
    "vidcap = cv2.VideoCapture('Crop_video/Step_2/6_2.mp4')\n",
    "fps = vidcap.get(cv2.CAP_PROP_FPS)\n",
    "frame_width = int(vidcap.get(cv2.CAP_PROP_FRAME_WIDTH))\n",
    "frame_height = int(vidcap.get(cv2.CAP_PROP_FRAME_HEIGHT))\n",
    "\n",
    "\n",
    "print(f\"{fps} frames per second, frame height: {frame_height}, frame width:{frame_width}\")\n"
   ]
  },
  {
   "cell_type": "code",
   "execution_count": null,
   "metadata": {},
   "outputs": [],
   "source": []
  }
 ],
 "metadata": {
  "kernelspec": {
   "display_name": "Python 3",
   "language": "python",
   "name": "python3"
  },
  "language_info": {
   "codemirror_mode": {
    "name": "ipython",
    "version": 3
   },
   "file_extension": ".py",
   "mimetype": "text/x-python",
   "name": "python",
   "nbconvert_exporter": "python",
   "pygments_lexer": "ipython3",
   "version": "3.11.5"
  }
 },
 "nbformat": 4,
 "nbformat_minor": 2
}
