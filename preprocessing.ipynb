{
 "cells": [
  {
   "cell_type": "code",
   "execution_count": 1,
   "metadata": {},
   "outputs": [],
   "source": [
    "import cv2"
   ]
  },
  {
   "cell_type": "markdown",
   "metadata": {},
   "source": [
    "#### Cropping the original videos into different steps"
   ]
  },
  {
   "cell_type": "code",
   "execution_count": null,
   "metadata": {},
   "outputs": [],
   "source": [
    "def get_clip(input_filename, output_filename,  start_sec, end_sec):\n",
    "    \n",
    "    vidcap = cv2.VideoCapture(input_filename)\n",
    "    \n",
    "    frame_width = int(vidcap.get(cv2.CAP_PROP_FRAME_WIDTH))\n",
    "    frame_height = int(vidcap.get(cv2.CAP_PROP_FRAME_HEIGHT))\n",
    "    fps = vidcap.get(cv2.CAP_PROP_FPS)\n",
    "    start_frame = int(start_sec*fps)\n",
    "    end_frame = int(end_sec*fps)\n",
    "    vidcap.set(cv2.CAP_PROP_POS_FRAMES,start_frame)\n",
    "    \n",
    "    \n",
    "    vidwrite = cv2.VideoWriter(output_filename, cv2.VideoWriter_fourcc(*'MP4V'), fps, (frame_width, frame_height) )\n",
    "    \n",
    "    success, image = vidcap.read()\n",
    "    frame_count = start_frame\n",
    "    while success and (frame_count < end_frame):\n",
    "        vidwrite.write(image)  \n",
    "        success, image = vidcap.read()  \n",
    "        frame_count+=1\n",
    "    vidwrite.release()"
   ]
  },
  {
   "cell_type": "code",
   "execution_count": null,
   "metadata": {},
   "outputs": [],
   "source": [
    "get_clip('Original_video/32.mp4', 'Crop_video/Step_10/32_10.mp4', 105, 134)"
   ]
  },
  {
   "cell_type": "markdown",
   "metadata": {},
   "source": [
    "#### Scaling the videos"
   ]
  },
  {
   "cell_type": "code",
   "execution_count": null,
   "metadata": {},
   "outputs": [],
   "source": [
    "def standardize_videos(input_folder, output_folder):\n",
    "    if not os.path.exists(output_folder):\n",
    "        os.makedirs(output_folder)\n",
    "\n",
    "    files = os.listdir(input_folder)\n",
    "\n",
    "    for file in files:\n",
    "        if file.endswith('.mp4'): \n",
    "            input_file = os.path.join(input_folder, file)\n",
    "            output_file = os.path.join(output_folder, file)\n",
    "\n",
    "            cap = cv2.VideoCapture(input_file)\n",
    "\n",
    "            fps = cap.get(cv2.CAP_PROP_FPS)\n",
    "            width = int(cap.get(cv2.CAP_PROP_FRAME_WIDTH))\n",
    "            height = int(cap.get(cv2.CAP_PROP_FRAME_HEIGHT))\n",
    "\n",
    "            target_width = 1280\n",
    "            target_height = 720\n",
    "            target_fps = 30\n",
    "\n",
    "            fourcc = cv2.VideoWriter_fourcc(*'mp4v')\n",
    "            out = cv2.VideoWriter(output_file, fourcc, target_fps, (target_width, target_height))\n",
    "\n",
    "            while True:\n",
    "                ret, frame = cap.read()\n",
    "                if not ret:\n",
    "                    break\n",
    "\n",
    "                resized_frame = cv2.resize(frame, (target_width, target_height))\n",
    "\n",
    "                out.write(resized_frame)\n",
    "\n",
    "            cap.release()\n",
    "            out.release()\n",
    "\n",
    "    print(\"All videos standardized successfully!\")\n",
    "\n",
    "input_folder = 'Crop_video/Step_2'\n",
    "output_folder = 'Scaled_video/Step_2'\n",
    "standardize_videos(input_folder, output_folder)"
   ]
  },
  {
   "cell_type": "markdown",
   "metadata": {},
   "source": [
    "#### Information of the video"
   ]
  },
  {
   "cell_type": "code",
   "execution_count": null,
   "metadata": {},
   "outputs": [],
   "source": [
    "def video_info(path):\n",
    "    dir_list = os.listdir(path)\n",
    "    for input_vid in dir_list:\n",
    "        vidcap = cv2.VideoCapture(path + input_vid)\n",
    "        fps = vidcap.get(cv2.CAP_PROP_FPS)\n",
    "        frame_width = int(vidcap.get(cv2.CAP_PROP_FRAME_WIDTH))\n",
    "        frame_height = int(vidcap.get(cv2.CAP_PROP_FRAME_HEIGHT))\n",
    "\n",
    "\n",
    "        print(f\"file name: {input_vid}, resolution: {frame_width} X {frame_height}, fps: {fps}\")"
   ]
  },
  {
   "cell_type": "code",
   "execution_count": null,
   "metadata": {},
   "outputs": [],
   "source": [
    "video_info(\"Scaled_video/Step_2/\")"
   ]
  }
 ],
 "metadata": {
  "kernelspec": {
   "display_name": "Python 3",
   "language": "python",
   "name": "python3"
  },
  "language_info": {
   "codemirror_mode": {
    "name": "ipython",
    "version": 3
   },
   "file_extension": ".py",
   "mimetype": "text/x-python",
   "name": "python",
   "nbconvert_exporter": "python",
   "pygments_lexer": "ipython3",
   "version": "3.11.5"
  }
 },
 "nbformat": 4,
 "nbformat_minor": 2
}
